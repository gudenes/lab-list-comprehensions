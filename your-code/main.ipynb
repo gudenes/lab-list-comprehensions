{
 "cells": [
  {
   "cell_type": "markdown",
   "metadata": {},
   "source": [
    "# List Comprehensions Lab\n",
    "\n",
    "Complete the following set of exercises to solidify your knowledge of list comprehensions."
   ]
  },
  {
   "cell_type": "code",
   "execution_count": 7,
   "metadata": {},
   "outputs": [
    {
     "name": "stdout",
     "output_type": "stream",
     "text": [
      "Requirement already satisfied: numpy in /usr/local/lib/python3.6/dist-packages (1.16.4)\r\n"
     ]
    }
   ],
   "source": [
    "import sys\n",
    "import os\n",
    "import numpy as np\n",
    "import pandas as pd\n",
    "\n",
    "import sys\n",
    "!{sys.executable} -m pip install numpy"
   ]
  },
  {
   "cell_type": "markdown",
   "metadata": {},
   "source": [
    "### 1. Use a list comprehension to create and print a list of consecutive integers starting with 1 and ending with 50."
   ]
  },
  {
   "cell_type": "code",
   "execution_count": 8,
   "metadata": {},
   "outputs": [
    {
     "name": "stdout",
     "output_type": "stream",
     "text": [
      "[1, 2, 3, 4, 5, 6, 7, 8, 9, 10, 11, 12, 13, 14, 15, 16, 17, 18, 19, 20, 21, 22, 23, 24, 25, 26, 27, 28, 29, 30, 31, 32, 33, 34, 35, 36, 37, 38, 39, 40, 41, 42, 43, 44, 45, 46, 47, 48, 49, 50]\n"
     ]
    }
   ],
   "source": [
    "list1 = [x for x in range(1,51)]\n",
    "print(list1)"
   ]
  },
  {
   "cell_type": "markdown",
   "metadata": {},
   "source": [
    "### 2. Use a list comprehension to create and print a list of even numbers starting with 2 and ending with 200."
   ]
  },
  {
   "cell_type": "code",
   "execution_count": 9,
   "metadata": {},
   "outputs": [
    {
     "name": "stdout",
     "output_type": "stream",
     "text": [
      "[2, 4, 6, 8, 10, 12, 14, 16, 18, 20, 22, 24, 26, 28, 30, 32, 34, 36, 38, 40, 42, 44, 46, 48, 50, 52, 54, 56, 58, 60, 62, 64, 66, 68, 70, 72, 74, 76, 78, 80, 82, 84, 86, 88, 90, 92, 94, 96, 98, 100, 102, 104, 106, 108, 110, 112, 114, 116, 118, 120, 122, 124, 126, 128, 130, 132, 134, 136, 138, 140, 142, 144, 146, 148, 150, 152, 154, 156, 158, 160, 162, 164, 166, 168, 170, 172, 174, 176, 178, 180, 182, 184, 186, 188, 190, 192, 194, 196, 198, 200]\n"
     ]
    }
   ],
   "source": [
    "list2 = [x for x in range(1,201) if x%2 ==0]\n",
    "print(list2)"
   ]
  },
  {
   "cell_type": "markdown",
   "metadata": {},
   "source": [
    "### 3. Use a list comprehension to create and print a list containing all elements of the 10 x 4 Numpy array below."
   ]
  },
  {
   "cell_type": "code",
   "execution_count": 10,
   "metadata": {},
   "outputs": [],
   "source": [
    "a = np.array([[0.84062117, 0.48006452, 0.7876326 , 0.77109654],\n",
    "       [0.44409793, 0.09014516, 0.81835917, 0.87645456],\n",
    "       [0.7066597 , 0.09610873, 0.41247947, 0.57433389],\n",
    "       [0.29960807, 0.42315023, 0.34452557, 0.4751035 ],\n",
    "       [0.17003563, 0.46843998, 0.92796258, 0.69814654],\n",
    "       [0.41290051, 0.19561071, 0.16284783, 0.97016248],\n",
    "       [0.71725408, 0.87702738, 0.31244595, 0.76615487],\n",
    "       [0.20754036, 0.57871812, 0.07214068, 0.40356048],\n",
    "       [0.12149553, 0.53222417, 0.9976855 , 0.12536346],\n",
    "       [0.80930099, 0.50962849, 0.94555126, 0.33364763]])"
   ]
  },
  {
   "cell_type": "code",
   "execution_count": 11,
   "metadata": {},
   "outputs": [
    {
     "name": "stdout",
     "output_type": "stream",
     "text": [
      "[0.84062117, 0.48006452, 0.7876326, 0.77109654, 0.44409793, 0.09014516, 0.81835917, 0.87645456, 0.7066597, 0.09610873, 0.41247947, 0.57433389, 0.29960807, 0.42315023, 0.34452557, 0.4751035, 0.17003563, 0.46843998, 0.92796258, 0.69814654, 0.41290051, 0.19561071, 0.16284783, 0.97016248, 0.71725408, 0.87702738, 0.31244595, 0.76615487, 0.20754036, 0.57871812, 0.07214068, 0.40356048, 0.12149553, 0.53222417, 0.9976855, 0.12536346, 0.80930099, 0.50962849, 0.94555126, 0.33364763]\n"
     ]
    }
   ],
   "source": [
    "list3 = [num for x in a for num in x]\n",
    "             \n",
    "print(list3)"
   ]
  },
  {
   "cell_type": "markdown",
   "metadata": {},
   "source": [
    "### 4. Add a condition to the list comprehension above so that only values greater than or equal to 0.5 are printed."
   ]
  },
  {
   "cell_type": "code",
   "execution_count": 12,
   "metadata": {},
   "outputs": [
    {
     "name": "stdout",
     "output_type": "stream",
     "text": [
      "[0.84062117, 0.7876326, 0.77109654, 0.81835917, 0.87645456, 0.7066597, 0.57433389, 0.92796258, 0.69814654, 0.97016248, 0.71725408, 0.87702738, 0.76615487, 0.57871812, 0.53222417, 0.9976855, 0.80930099, 0.50962849, 0.94555126]\n"
     ]
    }
   ],
   "source": [
    "list4 = [num for x in a for num in x if num >= 0.5]\n",
    "print(list4)\n",
    "             "
   ]
  },
  {
   "cell_type": "markdown",
   "metadata": {},
   "source": [
    "### 5. Use a list comprehension to create and print a list containing all elements of the 5 x 2 x 3 Numpy array below."
   ]
  },
  {
   "cell_type": "code",
   "execution_count": 13,
   "metadata": {},
   "outputs": [],
   "source": [
    "b = np.array([[[0.55867166, 0.06210792, 0.08147297],\n",
    "        [0.82579068, 0.91512478, 0.06833034]],\n",
    "\n",
    "       [[0.05440634, 0.65857693, 0.30296619],\n",
    "        [0.06769833, 0.96031863, 0.51293743]],\n",
    "\n",
    "       [[0.09143215, 0.71893382, 0.45850679],\n",
    "        [0.58256464, 0.59005654, 0.56266457]],\n",
    "\n",
    "       [[0.71600294, 0.87392666, 0.11434044],\n",
    "        [0.8694668 , 0.65669313, 0.10708681]],\n",
    "\n",
    "       [[0.07529684, 0.46470767, 0.47984544],\n",
    "        [0.65368638, 0.14901286, 0.23760688]]])"
   ]
  },
  {
   "cell_type": "code",
   "execution_count": 14,
   "metadata": {},
   "outputs": [
    {
     "name": "stdout",
     "output_type": "stream",
     "text": [
      "[0.55867166, 0.06210792, 0.08147297, 0.82579068, 0.91512478, 0.06833034, 0.05440634, 0.65857693, 0.30296619, 0.06769833, 0.96031863, 0.51293743, 0.09143215, 0.71893382, 0.45850679, 0.58256464, 0.59005654, 0.56266457, 0.71600294, 0.87392666, 0.11434044, 0.8694668, 0.65669313, 0.10708681, 0.07529684, 0.46470767, 0.47984544, 0.65368638, 0.14901286, 0.23760688]\n"
     ]
    }
   ],
   "source": [
    "list5 = [num for x in b for y in x for num in y]\n",
    "print(list5)"
   ]
  },
  {
   "cell_type": "markdown",
   "metadata": {},
   "source": [
    "### 5. Add a condition to the list comprehension above so that the last value in each subarray is printed, but only if it is less than or equal to 0.5."
   ]
  },
  {
   "cell_type": "code",
   "execution_count": 15,
   "metadata": {},
   "outputs": [
    {
     "name": "stdout",
     "output_type": "stream",
     "text": [
      "[0.08147297, 0.06833034, 0.30296619, 0.45850679, 0.11434044, 0.10708681, 0.47984544, 0.23760688]\n"
     ]
    }
   ],
   "source": [
    "list5a = [num[-1] for x in b for num in x if num[-1] <=0.5]\n",
    "print(list5a)"
   ]
  },
  {
   "cell_type": "markdown",
   "metadata": {},
   "source": [
    "### 6. Use a list comprehension to select and print the names of all CSV files in the */data* directory."
   ]
  },
  {
   "cell_type": "code",
   "execution_count": 16,
   "metadata": {},
   "outputs": [
    {
     "name": "stdout",
     "output_type": "stream",
     "text": [
      "['sample_file_9.csv', 'sample_file_3.csv', 'sample_file_6.csv', 'sample_file_8.csv', 'sample_file_5.csv', 'sample_file_1.csv', 'sample_file_7.csv', 'sample_file_0.csv', 'sample_file_2.csv', 'sample_file_4.csv']\n"
     ]
    }
   ],
   "source": [
    "\n",
    "list6 = [files for files in os.listdir(\"../data\") if files.endswith(\".csv\")]\n",
    "print(list6)\n",
    "\n",
    "\n",
    "    \n",
    "\n",
    "\n"
   ]
  },
  {
   "cell_type": "markdown",
   "metadata": {},
   "source": [
    "### 7. Use a list comprehension and the Pandas `read_csv` and `concat` methods to read all CSV files in the */data* directory and combine them into a single data frame. Display the top 10 rows of the resulting data frame."
   ]
  },
  {
   "cell_type": "code",
   "execution_count": 33,
   "metadata": {
    "scrolled": false
   },
   "outputs": [
    {
     "data": {
      "text/html": [
       "<div>\n",
       "<style scoped>\n",
       "    .dataframe tbody tr th:only-of-type {\n",
       "        vertical-align: middle;\n",
       "    }\n",
       "\n",
       "    .dataframe tbody tr th {\n",
       "        vertical-align: top;\n",
       "    }\n",
       "\n",
       "    .dataframe thead th {\n",
       "        text-align: right;\n",
       "    }\n",
       "</style>\n",
       "<table border=\"1\" class=\"dataframe\">\n",
       "  <thead>\n",
       "    <tr style=\"text-align: right;\">\n",
       "      <th></th>\n",
       "      <th>0</th>\n",
       "      <th>1</th>\n",
       "      <th>2</th>\n",
       "      <th>3</th>\n",
       "      <th>4</th>\n",
       "      <th>5</th>\n",
       "      <th>6</th>\n",
       "      <th>7</th>\n",
       "      <th>8</th>\n",
       "      <th>9</th>\n",
       "      <th>10</th>\n",
       "      <th>11</th>\n",
       "      <th>12</th>\n",
       "      <th>13</th>\n",
       "      <th>14</th>\n",
       "      <th>15</th>\n",
       "      <th>16</th>\n",
       "      <th>17</th>\n",
       "      <th>18</th>\n",
       "      <th>19</th>\n",
       "    </tr>\n",
       "  </thead>\n",
       "  <tbody>\n",
       "    <tr>\n",
       "      <th>0</th>\n",
       "      <td>0.901381</td>\n",
       "      <td>0.790944</td>\n",
       "      <td>0.596603</td>\n",
       "      <td>0.354721</td>\n",
       "      <td>0.357002</td>\n",
       "      <td>0.321325</td>\n",
       "      <td>0.738398</td>\n",
       "      <td>0.777885</td>\n",
       "      <td>0.775623</td>\n",
       "      <td>0.717817</td>\n",
       "      <td>0.788198</td>\n",
       "      <td>0.962214</td>\n",
       "      <td>0.394465</td>\n",
       "      <td>0.878922</td>\n",
       "      <td>0.084206</td>\n",
       "      <td>0.680941</td>\n",
       "      <td>0.992897</td>\n",
       "      <td>0.267455</td>\n",
       "      <td>0.212403</td>\n",
       "      <td>0.572150</td>\n",
       "    </tr>\n",
       "    <tr>\n",
       "      <th>1</th>\n",
       "      <td>0.763823</td>\n",
       "      <td>0.537281</td>\n",
       "      <td>0.708804</td>\n",
       "      <td>0.975269</td>\n",
       "      <td>0.053777</td>\n",
       "      <td>0.957740</td>\n",
       "      <td>0.389137</td>\n",
       "      <td>0.689829</td>\n",
       "      <td>0.510885</td>\n",
       "      <td>0.737445</td>\n",
       "      <td>0.097678</td>\n",
       "      <td>0.242906</td>\n",
       "      <td>0.073603</td>\n",
       "      <td>0.497591</td>\n",
       "      <td>0.798467</td>\n",
       "      <td>0.789078</td>\n",
       "      <td>0.947559</td>\n",
       "      <td>0.631497</td>\n",
       "      <td>0.057953</td>\n",
       "      <td>0.060306</td>\n",
       "    </tr>\n",
       "    <tr>\n",
       "      <th>2</th>\n",
       "      <td>0.571864</td>\n",
       "      <td>0.386243</td>\n",
       "      <td>0.567476</td>\n",
       "      <td>0.509283</td>\n",
       "      <td>0.552594</td>\n",
       "      <td>0.173807</td>\n",
       "      <td>0.229092</td>\n",
       "      <td>0.257945</td>\n",
       "      <td>0.313437</td>\n",
       "      <td>0.418311</td>\n",
       "      <td>0.750007</td>\n",
       "      <td>0.604759</td>\n",
       "      <td>0.234886</td>\n",
       "      <td>0.832337</td>\n",
       "      <td>0.421263</td>\n",
       "      <td>0.455785</td>\n",
       "      <td>0.893841</td>\n",
       "      <td>0.726412</td>\n",
       "      <td>0.458360</td>\n",
       "      <td>0.048740</td>\n",
       "    </tr>\n",
       "    <tr>\n",
       "      <th>3</th>\n",
       "      <td>0.956168</td>\n",
       "      <td>0.422274</td>\n",
       "      <td>0.121713</td>\n",
       "      <td>0.685208</td>\n",
       "      <td>0.713370</td>\n",
       "      <td>0.416245</td>\n",
       "      <td>0.337151</td>\n",
       "      <td>0.570693</td>\n",
       "      <td>0.435938</td>\n",
       "      <td>0.360098</td>\n",
       "      <td>0.037437</td>\n",
       "      <td>0.167545</td>\n",
       "      <td>0.847880</td>\n",
       "      <td>0.773456</td>\n",
       "      <td>0.490628</td>\n",
       "      <td>0.544232</td>\n",
       "      <td>0.954668</td>\n",
       "      <td>0.567280</td>\n",
       "      <td>0.571539</td>\n",
       "      <td>0.560742</td>\n",
       "    </tr>\n",
       "    <tr>\n",
       "      <th>4</th>\n",
       "      <td>0.121826</td>\n",
       "      <td>0.237479</td>\n",
       "      <td>0.553956</td>\n",
       "      <td>0.173660</td>\n",
       "      <td>0.354423</td>\n",
       "      <td>0.532080</td>\n",
       "      <td>0.271361</td>\n",
       "      <td>0.766006</td>\n",
       "      <td>0.607020</td>\n",
       "      <td>0.197302</td>\n",
       "      <td>0.526352</td>\n",
       "      <td>0.676571</td>\n",
       "      <td>0.473574</td>\n",
       "      <td>0.953228</td>\n",
       "      <td>0.413186</td>\n",
       "      <td>0.957242</td>\n",
       "      <td>0.642558</td>\n",
       "      <td>0.351496</td>\n",
       "      <td>0.547297</td>\n",
       "      <td>0.177401</td>\n",
       "    </tr>\n",
       "    <tr>\n",
       "      <th>0</th>\n",
       "      <td>0.215190</td>\n",
       "      <td>0.155352</td>\n",
       "      <td>0.160848</td>\n",
       "      <td>0.807736</td>\n",
       "      <td>0.363587</td>\n",
       "      <td>0.899832</td>\n",
       "      <td>0.146754</td>\n",
       "      <td>0.094802</td>\n",
       "      <td>0.705133</td>\n",
       "      <td>0.882762</td>\n",
       "      <td>0.773320</td>\n",
       "      <td>0.687745</td>\n",
       "      <td>0.016789</td>\n",
       "      <td>0.340725</td>\n",
       "      <td>0.984182</td>\n",
       "      <td>0.985461</td>\n",
       "      <td>0.412044</td>\n",
       "      <td>0.867894</td>\n",
       "      <td>0.113432</td>\n",
       "      <td>0.349845</td>\n",
       "    </tr>\n",
       "    <tr>\n",
       "      <th>1</th>\n",
       "      <td>0.895544</td>\n",
       "      <td>0.955196</td>\n",
       "      <td>0.089925</td>\n",
       "      <td>0.827555</td>\n",
       "      <td>0.089071</td>\n",
       "      <td>0.642883</td>\n",
       "      <td>0.996052</td>\n",
       "      <td>0.879020</td>\n",
       "      <td>0.421837</td>\n",
       "      <td>0.412141</td>\n",
       "      <td>0.858513</td>\n",
       "      <td>0.217091</td>\n",
       "      <td>0.176157</td>\n",
       "      <td>0.551236</td>\n",
       "      <td>0.834378</td>\n",
       "      <td>0.419535</td>\n",
       "      <td>0.041431</td>\n",
       "      <td>0.602258</td>\n",
       "      <td>0.984628</td>\n",
       "      <td>0.516899</td>\n",
       "    </tr>\n",
       "    <tr>\n",
       "      <th>2</th>\n",
       "      <td>0.413752</td>\n",
       "      <td>0.693052</td>\n",
       "      <td>0.789796</td>\n",
       "      <td>0.929164</td>\n",
       "      <td>0.536191</td>\n",
       "      <td>0.439769</td>\n",
       "      <td>0.773474</td>\n",
       "      <td>0.982074</td>\n",
       "      <td>0.876955</td>\n",
       "      <td>0.633154</td>\n",
       "      <td>0.279005</td>\n",
       "      <td>0.483317</td>\n",
       "      <td>0.908288</td>\n",
       "      <td>0.756172</td>\n",
       "      <td>0.462130</td>\n",
       "      <td>0.289892</td>\n",
       "      <td>0.145233</td>\n",
       "      <td>0.076819</td>\n",
       "      <td>0.797836</td>\n",
       "      <td>0.197592</td>\n",
       "    </tr>\n",
       "    <tr>\n",
       "      <th>3</th>\n",
       "      <td>0.728001</td>\n",
       "      <td>0.348156</td>\n",
       "      <td>0.935787</td>\n",
       "      <td>0.851163</td>\n",
       "      <td>0.444573</td>\n",
       "      <td>0.715080</td>\n",
       "      <td>0.988408</td>\n",
       "      <td>0.210332</td>\n",
       "      <td>0.732133</td>\n",
       "      <td>0.892383</td>\n",
       "      <td>0.216893</td>\n",
       "      <td>0.367595</td>\n",
       "      <td>0.846208</td>\n",
       "      <td>0.240111</td>\n",
       "      <td>0.471880</td>\n",
       "      <td>0.399721</td>\n",
       "      <td>0.758196</td>\n",
       "      <td>0.665568</td>\n",
       "      <td>0.931542</td>\n",
       "      <td>0.448124</td>\n",
       "    </tr>\n",
       "    <tr>\n",
       "      <th>4</th>\n",
       "      <td>0.134942</td>\n",
       "      <td>0.875931</td>\n",
       "      <td>0.273505</td>\n",
       "      <td>0.207588</td>\n",
       "      <td>0.080696</td>\n",
       "      <td>0.717396</td>\n",
       "      <td>0.033930</td>\n",
       "      <td>0.646837</td>\n",
       "      <td>0.888722</td>\n",
       "      <td>0.922742</td>\n",
       "      <td>0.176593</td>\n",
       "      <td>0.861333</td>\n",
       "      <td>0.389451</td>\n",
       "      <td>0.695244</td>\n",
       "      <td>0.129955</td>\n",
       "      <td>0.364114</td>\n",
       "      <td>0.428224</td>\n",
       "      <td>0.365442</td>\n",
       "      <td>0.847818</td>\n",
       "      <td>0.588319</td>\n",
       "    </tr>\n",
       "  </tbody>\n",
       "</table>\n",
       "</div>"
      ],
      "text/plain": [
       "          0         1         2         3         4         5         6  \\\n",
       "0  0.901381  0.790944  0.596603  0.354721  0.357002  0.321325  0.738398   \n",
       "1  0.763823  0.537281  0.708804  0.975269  0.053777  0.957740  0.389137   \n",
       "2  0.571864  0.386243  0.567476  0.509283  0.552594  0.173807  0.229092   \n",
       "3  0.956168  0.422274  0.121713  0.685208  0.713370  0.416245  0.337151   \n",
       "4  0.121826  0.237479  0.553956  0.173660  0.354423  0.532080  0.271361   \n",
       "0  0.215190  0.155352  0.160848  0.807736  0.363587  0.899832  0.146754   \n",
       "1  0.895544  0.955196  0.089925  0.827555  0.089071  0.642883  0.996052   \n",
       "2  0.413752  0.693052  0.789796  0.929164  0.536191  0.439769  0.773474   \n",
       "3  0.728001  0.348156  0.935787  0.851163  0.444573  0.715080  0.988408   \n",
       "4  0.134942  0.875931  0.273505  0.207588  0.080696  0.717396  0.033930   \n",
       "\n",
       "          7         8         9        10        11        12        13  \\\n",
       "0  0.777885  0.775623  0.717817  0.788198  0.962214  0.394465  0.878922   \n",
       "1  0.689829  0.510885  0.737445  0.097678  0.242906  0.073603  0.497591   \n",
       "2  0.257945  0.313437  0.418311  0.750007  0.604759  0.234886  0.832337   \n",
       "3  0.570693  0.435938  0.360098  0.037437  0.167545  0.847880  0.773456   \n",
       "4  0.766006  0.607020  0.197302  0.526352  0.676571  0.473574  0.953228   \n",
       "0  0.094802  0.705133  0.882762  0.773320  0.687745  0.016789  0.340725   \n",
       "1  0.879020  0.421837  0.412141  0.858513  0.217091  0.176157  0.551236   \n",
       "2  0.982074  0.876955  0.633154  0.279005  0.483317  0.908288  0.756172   \n",
       "3  0.210332  0.732133  0.892383  0.216893  0.367595  0.846208  0.240111   \n",
       "4  0.646837  0.888722  0.922742  0.176593  0.861333  0.389451  0.695244   \n",
       "\n",
       "         14        15        16        17        18        19  \n",
       "0  0.084206  0.680941  0.992897  0.267455  0.212403  0.572150  \n",
       "1  0.798467  0.789078  0.947559  0.631497  0.057953  0.060306  \n",
       "2  0.421263  0.455785  0.893841  0.726412  0.458360  0.048740  \n",
       "3  0.490628  0.544232  0.954668  0.567280  0.571539  0.560742  \n",
       "4  0.413186  0.957242  0.642558  0.351496  0.547297  0.177401  \n",
       "0  0.984182  0.985461  0.412044  0.867894  0.113432  0.349845  \n",
       "1  0.834378  0.419535  0.041431  0.602258  0.984628  0.516899  \n",
       "2  0.462130  0.289892  0.145233  0.076819  0.797836  0.197592  \n",
       "3  0.471880  0.399721  0.758196  0.665568  0.931542  0.448124  \n",
       "4  0.129955  0.364114  0.428224  0.365442  0.847818  0.588319  "
      ]
     },
     "execution_count": 33,
     "metadata": {},
     "output_type": "execute_result"
    }
   ],
   "source": [
    "\n",
    "list7 = []\n",
    "\n",
    "for i in os.listdir(\"../data\"):\n",
    "    if i.endswith(\".csv\"):\n",
    "        text = pd.read_csv(\"../data/\"+i)\n",
    "        df = pd.concat([df,text])\n",
    "\n",
    "df.head(10)\n",
    "\n",
    "        \n",
    "\n"
   ]
  },
  {
   "cell_type": "markdown",
   "metadata": {},
   "source": [
    "### 8. Use a list comprehension to select and print the column numbers for columns from the data set whose median is less than 0.48."
   ]
  },
  {
   "cell_type": "code",
   "execution_count": 72,
   "metadata": {},
   "outputs": [
    {
     "ename": "SyntaxError",
     "evalue": "invalid syntax (<ipython-input-72-e32c07c98164>, line 8)",
     "output_type": "error",
     "traceback": [
      "\u001b[0;36m  File \u001b[0;32m\"<ipython-input-72-e32c07c98164>\"\u001b[0;36m, line \u001b[0;32m8\u001b[0m\n\u001b[0;31m    list8 = [columns for columns in df if df.[columns].mean > 0.48]\u001b[0m\n\u001b[0m                                             ^\u001b[0m\n\u001b[0;31mSyntaxError\u001b[0m\u001b[0;31m:\u001b[0m invalid syntax\n"
     ]
    }
   ],
   "source": [
    "\n",
    "for column in df:\n",
    "    mean = df[columns].mean()\n",
    "    if mean < 0.48:\n",
    "        print(columns)\n",
    "\n",
    "\n",
    "list8 = [columns for columns in df if df.[columns].mean > 0.48]\n"
   ]
  },
  {
   "cell_type": "markdown",
   "metadata": {},
   "source": [
    "### 9. Use a list comprehension to add a new column (20) to the data frame whose values are the values in column 19 minus 0.1. Display the top 10 rows of the resulting data frame."
   ]
  },
  {
   "cell_type": "code",
   "execution_count": null,
   "metadata": {},
   "outputs": [],
   "source": []
  },
  {
   "cell_type": "markdown",
   "metadata": {},
   "source": [
    "### 10. Use a list comprehension to extract and print all values from the data set that are between 0.7 and 0.75."
   ]
  },
  {
   "cell_type": "code",
   "execution_count": null,
   "metadata": {},
   "outputs": [],
   "source": []
  }
 ],
 "metadata": {
  "kernelspec": {
   "display_name": "Python 3",
   "language": "python",
   "name": "python3"
  },
  "language_info": {
   "codemirror_mode": {
    "name": "ipython",
    "version": 3
   },
   "file_extension": ".py",
   "mimetype": "text/x-python",
   "name": "python",
   "nbconvert_exporter": "python",
   "pygments_lexer": "ipython3",
   "version": "3.6.7"
  }
 },
 "nbformat": 4,
 "nbformat_minor": 2
}
