{
 "cells": [
  {
   "cell_type": "markdown",
   "metadata": {},
   "source": [
    "![Image of Frequencies](https://crypto.interactive-maths.com/uploads/1/1/3/4/11345755/1192197_orig.jpg)"
   ]
  },
  {
   "cell_type": "code",
   "execution_count": 2,
   "metadata": {},
   "outputs": [],
   "source": [
    "text = '''GFS WMY OG LGDVS MF SFNKYHOSU ESLLMRS, PC WS BFGW POL DMFRQMRS, PL OG CPFU M UPCCSKSFO HDMPFOSXO GC OIS LMES DMFRQMRS\n",
    "DGFR SFGQRI OG CPDD GFS LISSO GK LG, MFU OISF WS NGQFO OIS GNNQKKSFNSL GC SMNI DSOOSK. WS NMDD OIS EGLO CKSJQSFODY\n",
    "GNNQKKPFR DSOOSK OIS 'CPKLO', OIS FSXO EGLO GNNQKKPFR DSOOSK OIS 'LSNGFU' OIS CGDDGWPFR EGLO GNNQKKPFR DSOOSK OIS\n",
    "'OIPKU', MFU LG GF, QFOPD WS MNNGQFO CGK MDD OIS UPCCSKSFO DSOOSKL PF OIS HDMPFOSXO LMEHDS. OISF WS DGGB MO OIS NPHISK\n",
    "OSXO WS WMFO OG LGDVS MFU WS MDLG NDMLLPCY POL LYEAGDL. WS CPFU OIS EGLO GNNQKKPFR LYEAGD MFU NIMFRS PO OG OIS CGKE GC\n",
    "IS 'CPKLO' DSOOSK GC OIS HDMPFOSXO LMEHDS, OIS FSXO EGLO NGEEGF LYEAGD PL NIMFRSU OG OIS CGKE GC OIS 'LSNGFU' DSOOSK, MFU\n",
    "OIS CGDDGWPFR EGLO NGEEGF LYEAGD PL NIMFRSU OG OIS CGKE GC OIS 'OIPKU' DSOOSK, MFU LG GF, QFOPD WS MNNGQFO CGK MDD LYEAGDL\n",
    "GC OIS NKYHOGRKME WS WMFO OG LGDVS.\"'''"
   ]
  },
  {
   "cell_type": "code",
   "execution_count": 123,
   "metadata": {},
   "outputs": [
    {
     "data": {
      "text/plain": [
       "5"
      ]
     },
     "execution_count": 123,
     "metadata": {},
     "output_type": "execute_result"
    }
   ],
   "source": [
    "text.count(\"A\")"
   ]
  },
  {
   "cell_type": "code",
   "execution_count": 124,
   "metadata": {},
   "outputs": [],
   "source": [
    "letra = {}\n",
    "\n",
    "for i in text:\n",
    "    if i.isalpha():\n",
    "        letra[i] = text.count(i)\n",
    "\n",
    "\n",
    "    "
   ]
  },
  {
   "cell_type": "code",
   "execution_count": 125,
   "metadata": {},
   "outputs": [
    {
     "data": {
      "text/plain": [
       "{'G': 67,\n",
       " 'F': 51,\n",
       " 'S': 88,\n",
       " 'W': 16,\n",
       " 'M': 35,\n",
       " 'Y': 10,\n",
       " 'O': 84,\n",
       " 'L': 39,\n",
       " 'D': 42,\n",
       " 'V': 3,\n",
       " 'N': 29,\n",
       " 'K': 35,\n",
       " 'H': 8,\n",
       " 'U': 17,\n",
       " 'E': 23,\n",
       " 'R': 17,\n",
       " 'P': 30,\n",
       " 'C': 26,\n",
       " 'B': 2,\n",
       " 'Q': 14,\n",
       " 'X': 6,\n",
       " 'I': 33,\n",
       " 'J': 1,\n",
       " 'A': 5}"
      ]
     },
     "execution_count": 125,
     "metadata": {},
     "output_type": "execute_result"
    }
   ],
   "source": [
    "letra"
   ]
  },
  {
   "cell_type": "code",
   "execution_count": null,
   "metadata": {},
   "outputs": [],
   "source": []
  },
  {
   "cell_type": "code",
   "execution_count": null,
   "metadata": {},
   "outputs": [],
   "source": []
  },
  {
   "cell_type": "code",
   "execution_count": null,
   "metadata": {},
   "outputs": [],
   "source": []
  },
  {
   "cell_type": "code",
   "execution_count": 6,
   "metadata": {},
   "outputs": [
    {
     "name": "stdout",
     "output_type": "stream",
     "text": [
      "one WaY to solVe an encrYpted message, if We knoW its language, is to find a different plainteXt of the same language\n",
      "long enough to fill one sheet or so, and then We count the occurrences of each letter. We call the most frequentlY\n",
      "occurring letter the 'first', the neXt most occurring letter the 'second' the folloWing most occurring letter the\n",
      "'third', and so on, until We account for all the different letters in the plainteXt sample. then We look at the cipher\n",
      "teXt We Want to solVe and We also classifY its sYmbols. We find the most occurring sYmbol and change it to the form of\n",
      "he 'first' letter of the plainteXt sample, the neXt most common sYmbol is changed to the form of the 'second' letter, and\n",
      "the folloWing most common sYmbol is changed to the form of the 'third' letter, and so on, until We account for all sYmbols\n",
      "of the crYptogram We Want to solVe.\"\n"
     ]
    }
   ],
   "source": [
    "\n",
    "novo_text = text.replace(\"S\",\"e\")\n",
    "novo_text = novo_text.replace(\"O\",\"t\")\n",
    "novo_text = novo_text.replace(\"G\",\"o\")\n",
    "novo_text = novo_text.replace(\"M\",\"a\")\n",
    "novo_text = novo_text.replace(\"N\",\"c\")\n",
    "novo_text = novo_text.replace(\"H\",\"p\")\n",
    "novo_text = novo_text.replace(\"F\",\"n\")\n",
    "novo_text = novo_text.replace(\"L\",\"s\")\n",
    "novo_text = novo_text.replace(\"D\",\"l\")\n",
    "novo_text = novo_text.replace(\"U\",\"d\")\n",
    "novo_text = novo_text.replace(\"K\",\"r\")\n",
    "novo_text = novo_text.replace(\"I\",\"h\")\n",
    "novo_text = novo_text.replace(\"R\",\"g\")\n",
    "novo_text = novo_text.replace(\"E\",\"m\")\n",
    "novo_text = novo_text.replace(\"P\",\"i\")\n",
    "novo_text = novo_text.replace(\"C\",\"f\")\n",
    "novo_text = novo_text.replace(\"Q\",\"u\")\n",
    "novo_text = novo_text.replace(\"B\",\"k\")\n",
    "novo_text = novo_text.replace(\"J\",\"q\")\n",
    "novo_text = novo_text.replace(\"A\",\"b\")\n",
    "\n",
    "print(novo_text)\n",
    "\n",
    "\n",
    "\n",
    "\n"
   ]
  },
  {
   "cell_type": "code",
   "execution_count": null,
   "metadata": {},
   "outputs": [],
   "source": []
  }
 ],
 "metadata": {
  "kernelspec": {
   "display_name": "Python 3",
   "language": "python",
   "name": "python3"
  },
  "language_info": {
   "codemirror_mode": {
    "name": "ipython",
    "version": 3
   },
   "file_extension": ".py",
   "mimetype": "text/x-python",
   "name": "python",
   "nbconvert_exporter": "python",
   "pygments_lexer": "ipython3",
   "version": "3.6.7"
  }
 },
 "nbformat": 4,
 "nbformat_minor": 2
}
